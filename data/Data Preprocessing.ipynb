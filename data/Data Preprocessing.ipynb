{
 "cells": [
  {
   "cell_type": "code",
   "execution_count": 1,
   "id": "845911be-e825-4db2-8c70-f48a68f99dd1",
   "metadata": {},
   "outputs": [],
   "source": [
    "import numpy as np\n",
    "import pandas as pd\n",
    "import matplotlib.pyplot as plt\n",
    "import seaborn as sns\n",
    "\n",
    "import re\n",
    "import os\n",
    "import sys\n",
    "import glob"
   ]
  },
  {
   "cell_type": "code",
   "execution_count": 2,
   "id": "b7e2a170-5cd8-4a0a-a4c3-1ed3260157ef",
   "metadata": {},
   "outputs": [],
   "source": [
    "plt.rcParams['font.family'] = 'AppleGothic'\n",
    "plt.rcParams['axes.unicode_minus'] = False"
   ]
  },
  {
   "cell_type": "code",
   "execution_count": 3,
   "id": "4b1d27f1-c5bc-4596-b0d9-383e47c9d4ee",
   "metadata": {},
   "outputs": [],
   "source": [
    "df = pd.read_csv('../datasets/integrated_datasets.csv')"
   ]
  },
  {
   "cell_type": "markdown",
   "id": "0c43f909-ca11-4a34-bbc8-aae620e7f927",
   "metadata": {},
   "source": [
    "## 데이터 기본 정보"
   ]
  },
  {
   "cell_type": "markdown",
   "id": "212e6466-bd66-479f-a766-c26bae13a814",
   "metadata": {},
   "source": [
    "- 총 16847의 row가 있는 것을 확인할 수 있음"
   ]
  },
  {
   "cell_type": "code",
   "execution_count": 4,
   "id": "2daaef2a-7a45-4a53-8655-f893bf42b3ff",
   "metadata": {
    "scrolled": true
   },
   "outputs": [
    {
     "name": "stdout",
     "output_type": "stream",
     "text": [
      "<class 'pandas.core.frame.DataFrame'>\n",
      "RangeIndex: 16896 entries, 0 to 16895\n",
      "Data columns (total 6 columns):\n",
      " #   Column    Non-Null Count  Dtype \n",
      "---  ------    --------------  ----- \n",
      " 0   title     16868 non-null  object\n",
      " 1   content   15880 non-null  object\n",
      " 2   category  2706 non-null   object\n",
      " 3   url       15178 non-null  object\n",
      " 4   source    16896 non-null  object\n",
      " 5   date      16792 non-null  object\n",
      "dtypes: object(6)\n",
      "memory usage: 792.1+ KB\n"
     ]
    }
   ],
   "source": [
    "df.info()"
   ]
  },
  {
   "cell_type": "code",
   "execution_count": 5,
   "id": "d9817c71-c977-4aa6-abcf-642c9e7f97aa",
   "metadata": {},
   "outputs": [
    {
     "data": {
      "text/html": [
       "<div>\n",
       "<style scoped>\n",
       "    .dataframe tbody tr th:only-of-type {\n",
       "        vertical-align: middle;\n",
       "    }\n",
       "\n",
       "    .dataframe tbody tr th {\n",
       "        vertical-align: top;\n",
       "    }\n",
       "\n",
       "    .dataframe thead th {\n",
       "        text-align: right;\n",
       "    }\n",
       "</style>\n",
       "<table border=\"1\" class=\"dataframe\">\n",
       "  <thead>\n",
       "    <tr style=\"text-align: right;\">\n",
       "      <th></th>\n",
       "      <th>title</th>\n",
       "      <th>content</th>\n",
       "      <th>category</th>\n",
       "      <th>url</th>\n",
       "      <th>source</th>\n",
       "      <th>date</th>\n",
       "    </tr>\n",
       "  </thead>\n",
       "  <tbody>\n",
       "    <tr>\n",
       "      <th>count</th>\n",
       "      <td>16868</td>\n",
       "      <td>15880</td>\n",
       "      <td>2706</td>\n",
       "      <td>15178</td>\n",
       "      <td>16896</td>\n",
       "      <td>16792</td>\n",
       "    </tr>\n",
       "    <tr>\n",
       "      <th>unique</th>\n",
       "      <td>13080</td>\n",
       "      <td>12583</td>\n",
       "      <td>30</td>\n",
       "      <td>11884</td>\n",
       "      <td>10</td>\n",
       "      <td>3624</td>\n",
       "    </tr>\n",
       "    <tr>\n",
       "      <th>top</th>\n",
       "      <td>금오공과대학교 인턴조교 채용 공고</td>\n",
       "      <td>등록금 납부확인서 발급 안내 \\n\\n* 발급대상 : 2010학년도 1학기 등록금 납...</td>\n",
       "      <td>[부속기관]</td>\n",
       "      <td>https://www.kumoh.ac.kr/ko/sub02_03_02_01.do</td>\n",
       "      <td>일반공지</td>\n",
       "      <td>2010-03-02</td>\n",
       "    </tr>\n",
       "    <tr>\n",
       "      <th>freq</th>\n",
       "      <td>23</td>\n",
       "      <td>6</td>\n",
       "      <td>529</td>\n",
       "      <td>15</td>\n",
       "      <td>9059</td>\n",
       "      <td>22</td>\n",
       "    </tr>\n",
       "  </tbody>\n",
       "</table>\n",
       "</div>"
      ],
      "text/plain": [
       "                     title                                            content  \\\n",
       "count                16868                                              15880   \n",
       "unique               13080                                              12583   \n",
       "top     금오공과대학교 인턴조교 채용 공고  등록금 납부확인서 발급 안내 \\n\\n* 발급대상 : 2010학년도 1학기 등록금 납...   \n",
       "freq                    23                                                  6   \n",
       "\n",
       "       category                                           url source  \\\n",
       "count      2706                                         15178  16896   \n",
       "unique       30                                         11884     10   \n",
       "top      [부속기관]  https://www.kumoh.ac.kr/ko/sub02_03_02_01.do   일반공지   \n",
       "freq        529                                            15   9059   \n",
       "\n",
       "              date  \n",
       "count        16792  \n",
       "unique        3624  \n",
       "top     2010-03-02  \n",
       "freq            22  "
      ]
     },
     "execution_count": 5,
     "metadata": {},
     "output_type": "execute_result"
    }
   ],
   "source": [
    "df.describe()"
   ]
  },
  {
   "cell_type": "code",
   "execution_count": 6,
   "id": "7246725e-6e0a-472b-a2cf-d16b5114ea50",
   "metadata": {},
   "outputs": [
    {
     "data": {
      "text/html": [
       "<div>\n",
       "<style scoped>\n",
       "    .dataframe tbody tr th:only-of-type {\n",
       "        vertical-align: middle;\n",
       "    }\n",
       "\n",
       "    .dataframe tbody tr th {\n",
       "        vertical-align: top;\n",
       "    }\n",
       "\n",
       "    .dataframe thead th {\n",
       "        text-align: right;\n",
       "    }\n",
       "</style>\n",
       "<table border=\"1\" class=\"dataframe\">\n",
       "  <thead>\n",
       "    <tr style=\"text-align: right;\">\n",
       "      <th></th>\n",
       "      <th>title</th>\n",
       "      <th>content</th>\n",
       "      <th>category</th>\n",
       "      <th>url</th>\n",
       "      <th>source</th>\n",
       "      <th>date</th>\n",
       "    </tr>\n",
       "  </thead>\n",
       "  <tbody>\n",
       "    <tr>\n",
       "      <th>0</th>\n",
       "      <td>휴학, 복학, 자퇴등 서식은 어디있나요 ?</td>\n",
       "      <td>교육/대학학사안내/자료실 에 있습니다.</td>\n",
       "      <td>학적 및 휴복학</td>\n",
       "      <td>https://www.kumoh.ac.kr/ko/sub02_03_02_01.do</td>\n",
       "      <td>학사 FAQ</td>\n",
       "      <td>NaN</td>\n",
       "    </tr>\n",
       "    <tr>\n",
       "      <th>1</th>\n",
       "      <td>★ 증명서 발급 방법 안내</td>\n",
       "      <td>증명서발급 무료 서비스 실시 안내 \\n\\t\\t \\n\\n『 국립학교의 각종 증명 발급...</td>\n",
       "      <td>학적 및 휴복학</td>\n",
       "      <td>https://www.kumoh.ac.kr/ko/sub02_03_02_01.do</td>\n",
       "      <td>학사 FAQ</td>\n",
       "      <td>NaN</td>\n",
       "    </tr>\n",
       "    <tr>\n",
       "      <th>2</th>\n",
       "      <td>등록금을 내고 휴학중이였는데 자퇴를 하게 되면 등록금 반환 금액은 어떻게 되나요?</td>\n",
       "      <td>제적시 등록금 반환금액은 다음과 같습니다 . \\n\\n\\t1. 관련 : 대학 등록금에...</td>\n",
       "      <td>학적 및 휴복학</td>\n",
       "      <td>https://www.kumoh.ac.kr/ko/sub02_03_02_01.do</td>\n",
       "      <td>학사 FAQ</td>\n",
       "      <td>NaN</td>\n",
       "    </tr>\n",
       "    <tr>\n",
       "      <th>3</th>\n",
       "      <td>군제대 날짜가 개학이 좀 지나서인데 복학 할 수 있나요?</td>\n",
       "      <td>군제대 일자가 개학 이후이나 휴가 등으로 학기중 출석에 문제가 되지 않을 경우 복학...</td>\n",
       "      <td>학적 및 휴복학</td>\n",
       "      <td>https://www.kumoh.ac.kr/ko/sub02_03_02_01.do</td>\n",
       "      <td>학사 FAQ</td>\n",
       "      <td>NaN</td>\n",
       "    </tr>\n",
       "    <tr>\n",
       "      <th>4</th>\n",
       "      <td>복학 할 시기가 남아 있는데 시기를 앞당겨 복학이 가능한가요?</td>\n",
       "      <td>앞당겨 복학 가능합니다.\\n단, 미리 복학하여 역학기 복학 할 경우 수강신청에 주의...</td>\n",
       "      <td>학적 및 휴복학</td>\n",
       "      <td>https://www.kumoh.ac.kr/ko/sub02_03_02_01.do</td>\n",
       "      <td>학사 FAQ</td>\n",
       "      <td>NaN</td>\n",
       "    </tr>\n",
       "  </tbody>\n",
       "</table>\n",
       "</div>"
      ],
      "text/plain": [
       "                                           title  \\\n",
       "0                        휴학, 복학, 자퇴등 서식은 어디있나요 ?   \n",
       "1                                 ★ 증명서 발급 방법 안내   \n",
       "2  등록금을 내고 휴학중이였는데 자퇴를 하게 되면 등록금 반환 금액은 어떻게 되나요?   \n",
       "3                군제대 날짜가 개학이 좀 지나서인데 복학 할 수 있나요?   \n",
       "4             복학 할 시기가 남아 있는데 시기를 앞당겨 복학이 가능한가요?   \n",
       "\n",
       "                                             content  category  \\\n",
       "0                              교육/대학학사안내/자료실 에 있습니다.  학적 및 휴복학   \n",
       "1  증명서발급 무료 서비스 실시 안내 \\n\\t\\t \\n\\n『 국립학교의 각종 증명 발급...  학적 및 휴복학   \n",
       "2  제적시 등록금 반환금액은 다음과 같습니다 . \\n\\n\\t1. 관련 : 대학 등록금에...  학적 및 휴복학   \n",
       "3  군제대 일자가 개학 이후이나 휴가 등으로 학기중 출석에 문제가 되지 않을 경우 복학...  학적 및 휴복학   \n",
       "4  앞당겨 복학 가능합니다.\\n단, 미리 복학하여 역학기 복학 할 경우 수강신청에 주의...  학적 및 휴복학   \n",
       "\n",
       "                                            url  source date  \n",
       "0  https://www.kumoh.ac.kr/ko/sub02_03_02_01.do  학사 FAQ  NaN  \n",
       "1  https://www.kumoh.ac.kr/ko/sub02_03_02_01.do  학사 FAQ  NaN  \n",
       "2  https://www.kumoh.ac.kr/ko/sub02_03_02_01.do  학사 FAQ  NaN  \n",
       "3  https://www.kumoh.ac.kr/ko/sub02_03_02_01.do  학사 FAQ  NaN  \n",
       "4  https://www.kumoh.ac.kr/ko/sub02_03_02_01.do  학사 FAQ  NaN  "
      ]
     },
     "execution_count": 6,
     "metadata": {},
     "output_type": "execute_result"
    }
   ],
   "source": [
    "df.head()"
   ]
  },
  {
   "cell_type": "markdown",
   "id": "884a1dcb-8f3a-4d36-8cad-70fa992d122d",
   "metadata": {},
   "source": [
    "## 결측치\n",
    "- 총 1016개인 것을 확인"
   ]
  },
  {
   "cell_type": "code",
   "execution_count": 7,
   "id": "42e02fed-48ff-40b1-89da-f1623a8c6de1",
   "metadata": {},
   "outputs": [],
   "source": [
    "missing_df = df[df['content'].isnull()]"
   ]
  },
  {
   "cell_type": "code",
   "execution_count": 8,
   "id": "d175156c-3f75-4620-ad29-58a591b82624",
   "metadata": {},
   "outputs": [
    {
     "data": {
      "text/plain": [
       "1016"
      ]
     },
     "execution_count": 8,
     "metadata": {},
     "output_type": "execute_result"
    }
   ],
   "source": [
    "len(missing_df)"
   ]
  },
  {
   "cell_type": "markdown",
   "id": "259f51b2-bb5d-4def-b78b-71f98ece863c",
   "metadata": {},
   "source": [
    "- 원본 글 별로 결측치 확인"
   ]
  },
  {
   "cell_type": "code",
   "execution_count": 9,
   "id": "4ed9bc5f-6ea3-4dc7-9900-23e57d364e00",
   "metadata": {},
   "outputs": [],
   "source": [
    "counts = missing_df['source'].value_counts()"
   ]
  },
  {
   "cell_type": "code",
   "execution_count": 10,
   "id": "47958a0e-43cc-494b-bbbf-b11a73e8747e",
   "metadata": {},
   "outputs": [
    {
     "data": {
      "text/plain": [
       "source\n",
       "일반공지     786\n",
       "도서관공지    132\n",
       "학사공지      84\n",
       "학과공지      14\n",
       "Name: count, dtype: int64"
      ]
     },
     "execution_count": 10,
     "metadata": {},
     "output_type": "execute_result"
    }
   ],
   "source": [
    "counts"
   ]
  },
  {
   "cell_type": "code",
   "execution_count": 11,
   "id": "271bfd6b-e98a-4af2-b045-ca37f4017b92",
   "metadata": {},
   "outputs": [
    {
     "name": "stderr",
     "output_type": "stream",
     "text": [
      "findfont: Font family 'AppleGothic' not found.\n",
      "findfont: Font family 'AppleGothic' not found.\n",
      "C:\\Users\\USER\\anaconda3\\Lib\\site-packages\\IPython\\core\\pylabtools.py:152: UserWarning: Glyph 51068 (\\N{HANGUL SYLLABLE IL}) missing from current font.\n",
      "  fig.canvas.print_figure(bytes_io, **kw)\n",
      "C:\\Users\\USER\\anaconda3\\Lib\\site-packages\\IPython\\core\\pylabtools.py:152: UserWarning: Glyph 48152 (\\N{HANGUL SYLLABLE BAN}) missing from current font.\n",
      "  fig.canvas.print_figure(bytes_io, **kw)\n",
      "C:\\Users\\USER\\anaconda3\\Lib\\site-packages\\IPython\\core\\pylabtools.py:152: UserWarning: Glyph 44277 (\\N{HANGUL SYLLABLE GONG}) missing from current font.\n",
      "  fig.canvas.print_figure(bytes_io, **kw)\n",
      "C:\\Users\\USER\\anaconda3\\Lib\\site-packages\\IPython\\core\\pylabtools.py:152: UserWarning: Glyph 51648 (\\N{HANGUL SYLLABLE JI}) missing from current font.\n",
      "  fig.canvas.print_figure(bytes_io, **kw)\n",
      "findfont: Font family 'AppleGothic' not found.\n",
      "C:\\Users\\USER\\anaconda3\\Lib\\site-packages\\IPython\\core\\pylabtools.py:152: UserWarning: Glyph 46020 (\\N{HANGUL SYLLABLE DO}) missing from current font.\n",
      "  fig.canvas.print_figure(bytes_io, **kw)\n",
      "C:\\Users\\USER\\anaconda3\\Lib\\site-packages\\IPython\\core\\pylabtools.py:152: UserWarning: Glyph 49436 (\\N{HANGUL SYLLABLE SEO}) missing from current font.\n",
      "  fig.canvas.print_figure(bytes_io, **kw)\n",
      "C:\\Users\\USER\\anaconda3\\Lib\\site-packages\\IPython\\core\\pylabtools.py:152: UserWarning: Glyph 44288 (\\N{HANGUL SYLLABLE GWAN}) missing from current font.\n",
      "  fig.canvas.print_figure(bytes_io, **kw)\n",
      "findfont: Font family 'AppleGothic' not found.\n",
      "C:\\Users\\USER\\anaconda3\\Lib\\site-packages\\IPython\\core\\pylabtools.py:152: UserWarning: Glyph 54617 (\\N{HANGUL SYLLABLE HAG}) missing from current font.\n",
      "  fig.canvas.print_figure(bytes_io, **kw)\n",
      "C:\\Users\\USER\\anaconda3\\Lib\\site-packages\\IPython\\core\\pylabtools.py:152: UserWarning: Glyph 49324 (\\N{HANGUL SYLLABLE SA}) missing from current font.\n",
      "  fig.canvas.print_figure(bytes_io, **kw)\n",
      "findfont: Font family 'AppleGothic' not found.\n",
      "C:\\Users\\USER\\anaconda3\\Lib\\site-packages\\IPython\\core\\pylabtools.py:152: UserWarning: Glyph 44284 (\\N{HANGUL SYLLABLE GWA}) missing from current font.\n",
      "  fig.canvas.print_figure(bytes_io, **kw)\n",
      "findfont: Font family 'AppleGothic' not found.\n",
      "findfont: Font family 'AppleGothic' not found.\n",
      "findfont: Font family 'AppleGothic' not found.\n",
      "findfont: Font family 'AppleGothic' not found.\n",
      "findfont: Font family 'AppleGothic' not found.\n",
      "findfont: Font family 'AppleGothic' not found.\n",
      "findfont: Font family 'AppleGothic' not found.\n",
      "findfont: Font family 'AppleGothic' not found.\n",
      "findfont: Font family 'AppleGothic' not found.\n",
      "findfont: Font family 'AppleGothic' not found.\n",
      "findfont: Font family 'AppleGothic' not found.\n",
      "findfont: Font family 'AppleGothic' not found.\n",
      "findfont: Font family 'AppleGothic' not found.\n",
      "findfont: Font family 'AppleGothic' not found.\n",
      "findfont: Font family 'AppleGothic' not found.\n",
      "findfont: Font family 'AppleGothic' not found.\n",
      "findfont: Font family 'AppleGothic' not found.\n",
      "findfont: Font family 'AppleGothic' not found.\n",
      "findfont: Font family 'AppleGothic' not found.\n",
      "findfont: Font family 'AppleGothic' not found.\n",
      "findfont: Font family 'AppleGothic' not found.\n",
      "findfont: Font family 'AppleGothic' not found.\n",
      "findfont: Font family 'AppleGothic' not found.\n",
      "findfont: Font family 'AppleGothic' not found.\n",
      "findfont: Font family 'AppleGothic' not found.\n",
      "findfont: Font family 'AppleGothic' not found.\n",
      "findfont: Font family 'AppleGothic' not found.\n",
      "findfont: Font family 'AppleGothic' not found.\n",
      "findfont: Font family 'AppleGothic' not found.\n",
      "findfont: Font family 'AppleGothic' not found.\n",
      "findfont: Font family 'AppleGothic' not found.\n",
      "findfont: Font family 'AppleGothic' not found.\n",
      "findfont: Font family 'AppleGothic' not found.\n",
      "findfont: Font family 'AppleGothic' not found.\n",
      "findfont: Font family 'AppleGothic' not found.\n",
      "findfont: Font family 'AppleGothic' not found.\n",
      "findfont: Font family 'AppleGothic' not found.\n",
      "findfont: Font family 'AppleGothic' not found.\n",
      "findfont: Font family 'AppleGothic' not found.\n",
      "findfont: Font family 'AppleGothic' not found.\n",
      "findfont: Font family 'AppleGothic' not found.\n",
      "findfont: Font family 'AppleGothic' not found.\n",
      "findfont: Font family 'AppleGothic' not found.\n",
      "findfont: Font family 'AppleGothic' not found.\n",
      "findfont: Font family 'AppleGothic' not found.\n"
     ]
    },
    {
     "data": {
      "image/png": "[encoded data removed]",
      "text/plain": [
       "<Figure size 600x400 with 1 Axes>"
      ]
     },
     "metadata": {},
     "output_type": "display_data"
    }
   ],
   "source": [
    "plt.figure(figsize=(6,4))\n",
    "ax = sns.countplot(x=missing_df['source'], order = missing_df['source'].value_counts().index)\n",
    "\n",
    "for p in ax.patches:\n",
    "    height = p.get_height()\n",
    "    ax.text(p.get_x() + p.get_width() / 2, height + 50, int(height), ha='center', size=10)\n",
    "\n",
    "ax.set_ylim(0,1000)\n",
    "for s in ['top', 'right']:\n",
    "    ax.spines[s].set_visible(False)\n",
    "    \n",
    "plt.show()"
   ]
  },
  {
   "cell_type": "markdown",
   "id": "4348f653-cbc3-4f73-8ad5-41bde34c62fe",
   "metadata": {},
   "source": [
    "- 동적인 정보이므로, 시시각각으로 변할 수 있음\n",
    "- 우선은 확보된 데이터 수가 16847개의 제목이었으므로 제거 진행"
   ]
  },
  {
   "cell_type": "code",
   "execution_count": 12,
   "id": "13a89893-b6ab-4ff2-bb16-c9e85063bd2a",
   "metadata": {},
   "outputs": [],
   "source": [
    "df = df[df['content'].notnull()]"
   ]
  },
  {
   "cell_type": "markdown",
   "id": "4d325981-d3b5-430a-818d-b44c1f366431",
   "metadata": {},
   "source": [
    "## Content 내용 전처리"
   ]
  },
  {
   "cell_type": "code",
   "execution_count": 13,
   "id": "9b3ed38f-25e7-4845-be3a-caf8de48b5ab",
   "metadata": {},
   "outputs": [
    {
     "data": {
      "text/plain": [
       "0                                교육/대학학사안내/자료실 에 있습니다.\n",
       "1    증명서발급 무료 서비스 실시 안내 \\n\\t\\t \\n\\n『 국립학교의 각종 증명 발급...\n",
       "2    제적시 등록금 반환금액은 다음과 같습니다 . \\n\\n\\t1. 관련 : 대학 등록금에...\n",
       "3    군제대 일자가 개학 이후이나 휴가 등으로 학기중 출석에 문제가 되지 않을 경우 복학...\n",
       "4    앞당겨 복학 가능합니다.\\n단, 미리 복학하여 역학기 복학 할 경우 수강신청에 주의...\n",
       "Name: content, dtype: object"
      ]
     },
     "execution_count": 13,
     "metadata": {},
     "output_type": "execute_result"
    }
   ],
   "source": [
    "df.head()['content']"
   ]
  },
  {
   "cell_type": "code",
   "execution_count": 14,
   "id": "701eb534-0bae-4e09-9ff1-02af972e98c5",
   "metadata": {},
   "outputs": [],
   "source": [
    "import re\n",
    "\n",
    "def content_preprocessing(content):\n",
    "    content = re.sub(r'\\n\\t+','\\n',content)\n",
    "    content = re.sub(r'\\n\\s*\\n+', '\\n\\n',content)\n",
    "    return content"
   ]
  },
  {
   "cell_type": "code",
   "execution_count": 15,
   "id": "a6a1c5c2-b51f-4bb5-a9f5-5a3bf503f27a",
   "metadata": {},
   "outputs": [],
   "source": [
    "df['content'] = df['content'].apply(content_preprocessing)"
   ]
  },
  {
   "cell_type": "markdown",
   "id": "8bc0bca6-4597-4c53-851b-e092bfdbe4d1",
   "metadata": {},
   "source": [
    "## content의 길이 확인"
   ]
  },
  {
   "cell_type": "code",
   "execution_count": 16,
   "id": "748ca24b-7918-4629-a005-ba1611227ed0",
   "metadata": {},
   "outputs": [
    {
     "name": "stderr",
     "output_type": "stream",
     "text": [
      "findfont: Font family 'AppleGothic' not found.\n",
      "findfont: Font family 'AppleGothic' not found.\n",
      "findfont: Font family 'AppleGothic' not found.\n",
      "findfont: Font family 'AppleGothic' not found.\n",
      "findfont: Font family 'AppleGothic' not found.\n",
      "findfont: Font family 'AppleGothic' not found.\n",
      "findfont: Font family 'AppleGothic' not found.\n",
      "findfont: Font family 'AppleGothic' not found.\n",
      "findfont: Font family ['AppleGothic'] not found. Falling back to DejaVu Sans.\n",
      "findfont: Font family 'AppleGothic' not found.\n",
      "findfont: Font family 'AppleGothic' not found.\n",
      "findfont: Font family 'AppleGothic' not found.\n",
      "findfont: Font family 'AppleGothic' not found.\n",
      "findfont: Font family 'AppleGothic' not found.\n",
      "findfont: Font family 'AppleGothic' not found.\n",
      "findfont: Font family 'AppleGothic' not found.\n",
      "findfont: Font family 'AppleGothic' not found.\n",
      "findfont: Font family 'AppleGothic' not found.\n",
      "findfont: Font family 'AppleGothic' not found.\n",
      "findfont: Font family 'AppleGothic' not found.\n",
      "findfont: Font family 'AppleGothic' not found.\n",
      "findfont: Font family 'AppleGothic' not found.\n",
      "findfont: Font family 'AppleGothic' not found.\n",
      "findfont: Font family 'AppleGothic' not found.\n",
      "findfont: Font family 'AppleGothic' not found.\n",
      "findfont: Font family 'AppleGothic' not found.\n",
      "findfont: Font family 'AppleGothic' not found.\n"
     ]
    },
    {
     "data": {
      "image/png": "[encoded data removed]",
      "text/plain": [
       "<Figure size 640x480 with 1 Axes>"
      ]
     },
     "metadata": {},
     "output_type": "display_data"
    }
   ],
   "source": [
    "ax = sns.histplot(x = df['content'].apply(lambda s: len(s)), binwidth=500)\n",
    "plt.yscale('log')\n",
    "\n",
    "for s in ['top', 'right']:\n",
    "    ax.spines[s].set_visible(False)\n",
    "    \n",
    "plt.show()"
   ]
  },
  {
   "cell_type": "code",
   "execution_count": 17,
   "id": "44dd94f5-2cbc-452d-b09a-abfb9c21cd65",
   "metadata": {
    "scrolled": true
   },
   "outputs": [
    {
     "data": {
      "text/plain": [
       "count    15880.000000\n",
       "mean       681.737846\n",
       "std        813.145910\n",
       "min          1.000000\n",
       "25%        232.000000\n",
       "50%        470.000000\n",
       "75%        888.000000\n",
       "max      24825.000000\n",
       "Name: content, dtype: float64"
      ]
     },
     "execution_count": 17,
     "metadata": {},
     "output_type": "execute_result"
    }
   ],
   "source": [
    "df['content'].apply(lambda s: len(s)).describe()"
   ]
  },
  {
   "cell_type": "code",
   "execution_count": 18,
   "id": "18232fe5-7c10-495e-990c-0472de866d9a",
   "metadata": {},
   "outputs": [
    {
     "data": {
      "text/html": [
       "<div>\n",
       "<style scoped>\n",
       "    .dataframe tbody tr th:only-of-type {\n",
       "        vertical-align: middle;\n",
       "    }\n",
       "\n",
       "    .dataframe tbody tr th {\n",
       "        vertical-align: top;\n",
       "    }\n",
       "\n",
       "    .dataframe thead th {\n",
       "        text-align: right;\n",
       "    }\n",
       "</style>\n",
       "<table border=\"1\" class=\"dataframe\">\n",
       "  <thead>\n",
       "    <tr style=\"text-align: right;\">\n",
       "      <th></th>\n",
       "      <th>title</th>\n",
       "      <th>content</th>\n",
       "      <th>category</th>\n",
       "      <th>url</th>\n",
       "      <th>source</th>\n",
       "      <th>date</th>\n",
       "    </tr>\n",
       "  </thead>\n",
       "  <tbody>\n",
       "    <tr>\n",
       "      <th>122</th>\n",
       "      <td>학년별 수강신청 기간에 신청한 강의를 전체 수강신청 기간에 취소 할 수 있나요?\\n...</td>\n",
       "      <td>가능합니다. 감사합니다.</td>\n",
       "      <td>NaN</td>\n",
       "      <td>NaN</td>\n",
       "      <td>Q&amp;A</td>\n",
       "      <td>2024-02-15</td>\n",
       "    </tr>\n",
       "    <tr>\n",
       "      <th>299</th>\n",
       "      <td>비교과 졸업 이수요건 충족을 위해 독서 인증 평가 신청을 하려고 하는데 휴학생도 평...</td>\n",
       "      <td>휴학생도 신청 가능합니다</td>\n",
       "      <td>NaN</td>\n",
       "      <td>NaN</td>\n",
       "      <td>Q&amp;A</td>\n",
       "      <td>2022-08-04</td>\n",
       "    </tr>\n",
       "    <tr>\n",
       "      <th>785</th>\n",
       "      <td>1,4학년이 2,3학년 수강신청기간에 접속해서 2,3학년 수강과목 신청할 수 있나요?</td>\n",
       "      <td>아니요. 불가합니다.</td>\n",
       "      <td>NaN</td>\n",
       "      <td>NaN</td>\n",
       "      <td>Q&amp;A</td>\n",
       "      <td>2020-01-23</td>\n",
       "    </tr>\n",
       "    <tr>\n",
       "      <th>827</th>\n",
       "      <td>군 휴학후 2020-1학기 복학예정 입니다.\\n다름이 아니라 제가 군 복무중 참여했...</td>\n",
       "      <td>전화로 답변드렸습니다.</td>\n",
       "      <td>NaN</td>\n",
       "      <td>NaN</td>\n",
       "      <td>Q&amp;A</td>\n",
       "      <td>2019-12-06</td>\n",
       "    </tr>\n",
       "    <tr>\n",
       "      <th>897</th>\n",
       "      <td>컴공 컴퓨터 시스템 최신 기술이 지금 수강 신청 인원이 저 포함 4명입니다.\\n\\n...</td>\n",
       "      <td>학과로 문의 바랍니다.</td>\n",
       "      <td>NaN</td>\n",
       "      <td>NaN</td>\n",
       "      <td>Q&amp;A</td>\n",
       "      <td>2019-08-21</td>\n",
       "    </tr>\n",
       "  </tbody>\n",
       "</table>\n",
       "</div>"
      ],
      "text/plain": [
       "                                                 title        content  \\\n",
       "122  학년별 수강신청 기간에 신청한 강의를 전체 수강신청 기간에 취소 할 수 있나요?\\n...  가능합니다. 감사합니다.   \n",
       "299  비교과 졸업 이수요건 충족을 위해 독서 인증 평가 신청을 하려고 하는데 휴학생도 평...  휴학생도 신청 가능합니다   \n",
       "785    1,4학년이 2,3학년 수강신청기간에 접속해서 2,3학년 수강과목 신청할 수 있나요?    아니요. 불가합니다.   \n",
       "827  군 휴학후 2020-1학기 복학예정 입니다.\\n다름이 아니라 제가 군 복무중 참여했...   전화로 답변드렸습니다.   \n",
       "897  컴공 컴퓨터 시스템 최신 기술이 지금 수강 신청 인원이 저 포함 4명입니다.\\n\\n...   학과로 문의 바랍니다.   \n",
       "\n",
       "    category  url source        date  \n",
       "122      NaN  NaN    Q&A  2024-02-15  \n",
       "299      NaN  NaN    Q&A  2022-08-04  \n",
       "785      NaN  NaN    Q&A  2020-01-23  \n",
       "827      NaN  NaN    Q&A  2019-12-06  \n",
       "897      NaN  NaN    Q&A  2019-08-21  "
      ]
     },
     "execution_count": 18,
     "metadata": {},
     "output_type": "execute_result"
    }
   ],
   "source": [
    "df[df['content'].apply(lambda x: len(x))<15].head()"
   ]
  },
  {
   "cell_type": "code",
   "execution_count": 19,
   "id": "84f3378e-beaf-47d7-9d35-82ac21ff58c4",
   "metadata": {},
   "outputs": [
    {
     "data": {
      "text/plain": [
       "36"
      ]
     },
     "execution_count": 19,
     "metadata": {},
     "output_type": "execute_result"
    }
   ],
   "source": [
    "len(df[df['content'].apply(lambda x: len(x))<15])"
   ]
  },
  {
   "cell_type": "markdown",
   "id": "3200565d-be67-4cf5-9bba-d1177e365dc4",
   "metadata": {},
   "source": [
    "- 길이가 15 미만인 것 삭제\n",
    "- 20의 경우, Q&A에 대한 답변도 포함되는 것을 확인할 수 있어 우선은 보류 "
   ]
  },
  {
   "cell_type": "code",
   "execution_count": 20,
   "id": "df7f872f-7d3d-4816-95d1-2a9f361428a9",
   "metadata": {},
   "outputs": [],
   "source": [
    "df = df[df['content'].apply(lambda x: len(x))>=15]"
   ]
  },
  {
   "cell_type": "code",
   "execution_count": 21,
   "id": "ed5b2d1f-09a3-4776-a7d3-3bcc6567c3dd",
   "metadata": {},
   "outputs": [
    {
     "data": {
      "text/plain": [
       "15844"
      ]
     },
     "execution_count": 21,
     "metadata": {},
     "output_type": "execute_result"
    }
   ],
   "source": [
    "len(df)"
   ]
  },
  {
   "cell_type": "code",
   "execution_count": 22,
   "id": "13cc83c7-42af-41bd-85cf-e942e8e00e7f",
   "metadata": {},
   "outputs": [],
   "source": [
    "df.reset_index(drop = True, inplace = True)"
   ]
  },
  {
   "cell_type": "code",
   "execution_count": 23,
   "id": "4caeeb2e-3834-4333-a263-f6c9c2c178c3",
   "metadata": {
    "scrolled": true
   },
   "outputs": [
    {
     "data": {
      "text/html": [
       "<div>\n",
       "<style scoped>\n",
       "    .dataframe tbody tr th:only-of-type {\n",
       "        vertical-align: middle;\n",
       "    }\n",
       "\n",
       "    .dataframe tbody tr th {\n",
       "        vertical-align: top;\n",
       "    }\n",
       "\n",
       "    .dataframe thead th {\n",
       "        text-align: right;\n",
       "    }\n",
       "</style>\n",
       "<table border=\"1\" class=\"dataframe\">\n",
       "  <thead>\n",
       "    <tr style=\"text-align: right;\">\n",
       "      <th></th>\n",
       "      <th>title</th>\n",
       "      <th>content</th>\n",
       "      <th>category</th>\n",
       "      <th>url</th>\n",
       "      <th>source</th>\n",
       "      <th>date</th>\n",
       "    </tr>\n",
       "  </thead>\n",
       "  <tbody>\n",
       "    <tr>\n",
       "      <th>87</th>\n",
       "      <td>교육과정별 이수 원칙</td>\n",
       "      <td>공통 사항 \\n\\n가.교육과정의 이수는 재학 학년도의 교육과정을 적용한다. \\n나....</td>\n",
       "      <td>이수기준</td>\n",
       "      <td>https://www.kumoh.ac.kr/ko/sub02_03_04_02.do</td>\n",
       "      <td>교육과정 안내</td>\n",
       "      <td>NaN</td>\n",
       "    </tr>\n",
       "    <tr>\n",
       "      <th>89</th>\n",
       "      <td>교육과정 이수 기준표</td>\n",
       "      <td>교육과정 이수 기준표 \\n| 학 부(과) | 교양 | MSC\\n(기초도구) | 전공...</td>\n",
       "      <td>이수기준</td>\n",
       "      <td>https://www.kumoh.ac.kr/ko/sub02_03_04_02.do</td>\n",
       "      <td>교육과정 안내</td>\n",
       "      <td>NaN</td>\n",
       "    </tr>\n",
       "    <tr>\n",
       "      <th>90</th>\n",
       "      <td>2021학년도 이전 입학자 교육과정 이수 기준표</td>\n",
       "      <td>2021학년도 이전 입학자 교육과정 이수 기준표 \\n| 학 부(과) | 교양 | M...</td>\n",
       "      <td>이수기준</td>\n",
       "      <td>https://www.kumoh.ac.kr/ko/sub02_03_04_02.do</td>\n",
       "      <td>교육과정 안내</td>\n",
       "      <td>NaN</td>\n",
       "    </tr>\n",
       "    <tr>\n",
       "      <th>91</th>\n",
       "      <td>2019학년도 이전 입학자 교육과정 이수 기준표</td>\n",
       "      <td>2019학년도 이전 입학자 교육과정 이수 기준표 \\n| 학 부(과) | 교양 | M...</td>\n",
       "      <td>이수기준</td>\n",
       "      <td>https://www.kumoh.ac.kr/ko/sub02_03_04_02.do</td>\n",
       "      <td>교육과정 안내</td>\n",
       "      <td>NaN</td>\n",
       "    </tr>\n",
       "    <tr>\n",
       "      <th>92</th>\n",
       "      <td>2016학년도 이전 입학자 교육과정 이수 기준표</td>\n",
       "      <td>2016학년도 이전 입학자 교육과정 이수 기준표 \\n| 학 부(과) | 교양 | M...</td>\n",
       "      <td>이수기준</td>\n",
       "      <td>https://www.kumoh.ac.kr/ko/sub02_03_04_02.do</td>\n",
       "      <td>교육과정 안내</td>\n",
       "      <td>NaN</td>\n",
       "    </tr>\n",
       "    <tr>\n",
       "      <th>...</th>\n",
       "      <td>...</td>\n",
       "      <td>...</td>\n",
       "      <td>...</td>\n",
       "      <td>...</td>\n",
       "      <td>...</td>\n",
       "      <td>...</td>\n",
       "    </tr>\n",
       "    <tr>\n",
       "      <th>15511</th>\n",
       "      <td>EBSCO 온라인 이용교육 일정 안내(3.12.~4.23)</td>\n",
       "      <td>3-4월 EBSCO 온라인 이용교육 일정을 다음과 같이 안내하오니 많은 참여바랍니다...</td>\n",
       "      <td>NaN</td>\n",
       "      <td>NaN</td>\n",
       "      <td>도서관공지</td>\n",
       "      <td>2021-03-03</td>\n",
       "    </tr>\n",
       "    <tr>\n",
       "      <th>15512</th>\n",
       "      <td>신착 전자책(eBook) 목록 안내(2021.2)</td>\n",
       "      <td>신착 전자책(2021.2) 자료를 안내하오니 많은 이용바랍니다. \\n\\n※ 이용방법...</td>\n",
       "      <td>NaN</td>\n",
       "      <td>NaN</td>\n",
       "      <td>도서관공지</td>\n",
       "      <td>2021-02-26</td>\n",
       "    </tr>\n",
       "    <tr>\n",
       "      <th>15594</th>\n",
       "      <td>[온라인 교육] 4월 엡스코 온라인 이용교육 일정</td>\n",
       "      <td>코로나19 확산에 따라 집합교육을 진행하기 어려운 상황으로 아래와 같이 온라인교육을...</td>\n",
       "      <td>NaN</td>\n",
       "      <td>NaN</td>\n",
       "      <td>도서관공지</td>\n",
       "      <td>2020-04-06</td>\n",
       "    </tr>\n",
       "    <tr>\n",
       "      <th>15633</th>\n",
       "      <td>중국인 유학생을 위한 온라인 중국어 이용 교육 안내</td>\n",
       "      <td>ProQuest의 다양한 학술DB의 이용방법을 중국어로 익힐 수 있는 좋은 기회이니...</td>\n",
       "      <td>NaN</td>\n",
       "      <td>NaN</td>\n",
       "      <td>도서관공지</td>\n",
       "      <td>2019-09-27</td>\n",
       "    </tr>\n",
       "    <tr>\n",
       "      <th>15769</th>\n",
       "      <td>2016학년도 1학기 독서클럽 회원모집 안내</td>\n",
       "      <td>2016 학년도 1 학기 독서클럽 회원모집 안내 \\n\\n도서관에서는 독서활성화를 위...</td>\n",
       "      <td>NaN</td>\n",
       "      <td>NaN</td>\n",
       "      <td>도서관공지</td>\n",
       "      <td>2016-03-09</td>\n",
       "    </tr>\n",
       "  </tbody>\n",
       "</table>\n",
       "<p>1696 rows × 6 columns</p>\n",
       "</div>"
      ],
      "text/plain": [
       "                                  title  \\\n",
       "87                          교육과정별 이수 원칙   \n",
       "89                          교육과정 이수 기준표   \n",
       "90           2021학년도 이전 입학자 교육과정 이수 기준표   \n",
       "91           2019학년도 이전 입학자 교육과정 이수 기준표   \n",
       "92           2016학년도 이전 입학자 교육과정 이수 기준표   \n",
       "...                                 ...   \n",
       "15511  EBSCO 온라인 이용교육 일정 안내(3.12.~4.23)   \n",
       "15512       신착 전자책(eBook) 목록 안내(2021.2)   \n",
       "15594       [온라인 교육] 4월 엡스코 온라인 이용교육 일정   \n",
       "15633      중국인 유학생을 위한 온라인 중국어 이용 교육 안내   \n",
       "15769          2016학년도 1학기 독서클럽 회원모집 안내   \n",
       "\n",
       "                                                 content category  \\\n",
       "87     공통 사항 \\n\\n가.교육과정의 이수는 재학 학년도의 교육과정을 적용한다. \\n나....     이수기준   \n",
       "89     교육과정 이수 기준표 \\n| 학 부(과) | 교양 | MSC\\n(기초도구) | 전공...     이수기준   \n",
       "90     2021학년도 이전 입학자 교육과정 이수 기준표 \\n| 학 부(과) | 교양 | M...     이수기준   \n",
       "91     2019학년도 이전 입학자 교육과정 이수 기준표 \\n| 학 부(과) | 교양 | M...     이수기준   \n",
       "92     2016학년도 이전 입학자 교육과정 이수 기준표 \\n| 학 부(과) | 교양 | M...     이수기준   \n",
       "...                                                  ...      ...   \n",
       "15511  3-4월 EBSCO 온라인 이용교육 일정을 다음과 같이 안내하오니 많은 참여바랍니다...      NaN   \n",
       "15512  신착 전자책(2021.2) 자료를 안내하오니 많은 이용바랍니다. \\n\\n※ 이용방법...      NaN   \n",
       "15594  코로나19 확산에 따라 집합교육을 진행하기 어려운 상황으로 아래와 같이 온라인교육을...      NaN   \n",
       "15633  ProQuest의 다양한 학술DB의 이용방법을 중국어로 익힐 수 있는 좋은 기회이니...      NaN   \n",
       "15769  2016 학년도 1 학기 독서클럽 회원모집 안내 \\n\\n도서관에서는 독서활성화를 위...      NaN   \n",
       "\n",
       "                                                url   source        date  \n",
       "87     https://www.kumoh.ac.kr/ko/sub02_03_04_02.do  교육과정 안내         NaN  \n",
       "89     https://www.kumoh.ac.kr/ko/sub02_03_04_02.do  교육과정 안내         NaN  \n",
       "90     https://www.kumoh.ac.kr/ko/sub02_03_04_02.do  교육과정 안내         NaN  \n",
       "91     https://www.kumoh.ac.kr/ko/sub02_03_04_02.do  교육과정 안내         NaN  \n",
       "92     https://www.kumoh.ac.kr/ko/sub02_03_04_02.do  교육과정 안내         NaN  \n",
       "...                                             ...      ...         ...  \n",
       "15511                                           NaN    도서관공지  2021-03-03  \n",
       "15512                                           NaN    도서관공지  2021-02-26  \n",
       "15594                                           NaN    도서관공지  2020-04-06  \n",
       "15633                                           NaN    도서관공지  2019-09-27  \n",
       "15769                                           NaN    도서관공지  2016-03-09  \n",
       "\n",
       "[1696 rows x 6 columns]"
      ]
     },
     "execution_count": 23,
     "metadata": {},
     "output_type": "execute_result"
    }
   ],
   "source": [
    "df[df['content'].apply(lambda x: len(x))>=1500]"
   ]
  },
  {
   "cell_type": "markdown",
   "id": "74ddf492-ee3f-4ff8-ba4d-b57edffee7d1",
   "metadata": {},
   "source": [
    "## 카테고리 별 데이터 수"
   ]
  },
  {
   "cell_type": "code",
   "execution_count": 24,
   "id": "69c7765a-7114-439b-8890-c7ea1adb4c6f",
   "metadata": {},
   "outputs": [
    {
     "name": "stderr",
     "output_type": "stream",
     "text": [
      "findfont: Font family 'AppleGothic' not found.\n",
      "findfont: Font family 'AppleGothic' not found.\n",
      "C:\\Users\\USER\\anaconda3\\Lib\\site-packages\\IPython\\core\\pylabtools.py:152: UserWarning: Glyph 51068 (\\N{HANGUL SYLLABLE IL}) missing from current font.\n",
      "  fig.canvas.print_figure(bytes_io, **kw)\n",
      "C:\\Users\\USER\\anaconda3\\Lib\\site-packages\\IPython\\core\\pylabtools.py:152: UserWarning: Glyph 48152 (\\N{HANGUL SYLLABLE BAN}) missing from current font.\n",
      "  fig.canvas.print_figure(bytes_io, **kw)\n",
      "C:\\Users\\USER\\anaconda3\\Lib\\site-packages\\IPython\\core\\pylabtools.py:152: UserWarning: Glyph 44277 (\\N{HANGUL SYLLABLE GONG}) missing from current font.\n",
      "  fig.canvas.print_figure(bytes_io, **kw)\n",
      "C:\\Users\\USER\\anaconda3\\Lib\\site-packages\\IPython\\core\\pylabtools.py:152: UserWarning: Glyph 51648 (\\N{HANGUL SYLLABLE JI}) missing from current font.\n",
      "  fig.canvas.print_figure(bytes_io, **kw)\n",
      "findfont: Font family 'AppleGothic' not found.\n",
      "C:\\Users\\USER\\anaconda3\\Lib\\site-packages\\IPython\\core\\pylabtools.py:152: UserWarning: Glyph 54617 (\\N{HANGUL SYLLABLE HAG}) missing from current font.\n",
      "  fig.canvas.print_figure(bytes_io, **kw)\n",
      "C:\\Users\\USER\\anaconda3\\Lib\\site-packages\\IPython\\core\\pylabtools.py:152: UserWarning: Glyph 49324 (\\N{HANGUL SYLLABLE SA}) missing from current font.\n",
      "  fig.canvas.print_figure(bytes_io, **kw)\n",
      "findfont: Font family 'AppleGothic' not found.\n",
      "C:\\Users\\USER\\anaconda3\\Lib\\site-packages\\IPython\\core\\pylabtools.py:152: UserWarning: Glyph 44284 (\\N{HANGUL SYLLABLE GWA}) missing from current font.\n",
      "  fig.canvas.print_figure(bytes_io, **kw)\n",
      "findfont: Font family 'AppleGothic' not found.\n",
      "findfont: Font family 'AppleGothic' not found.\n",
      "C:\\Users\\USER\\anaconda3\\Lib\\site-packages\\IPython\\core\\pylabtools.py:152: UserWarning: Glyph 46020 (\\N{HANGUL SYLLABLE DO}) missing from current font.\n",
      "  fig.canvas.print_figure(bytes_io, **kw)\n",
      "C:\\Users\\USER\\anaconda3\\Lib\\site-packages\\IPython\\core\\pylabtools.py:152: UserWarning: Glyph 49436 (\\N{HANGUL SYLLABLE SEO}) missing from current font.\n",
      "  fig.canvas.print_figure(bytes_io, **kw)\n",
      "C:\\Users\\USER\\anaconda3\\Lib\\site-packages\\IPython\\core\\pylabtools.py:152: UserWarning: Glyph 44288 (\\N{HANGUL SYLLABLE GWAN}) missing from current font.\n",
      "  fig.canvas.print_figure(bytes_io, **kw)\n",
      "findfont: Font family 'AppleGothic' not found.\n",
      "findfont: Font family 'AppleGothic' not found.\n",
      "C:\\Users\\USER\\anaconda3\\Lib\\site-packages\\IPython\\core\\pylabtools.py:152: UserWarning: Glyph 50504 (\\N{HANGUL SYLLABLE AN}) missing from current font.\n",
      "  fig.canvas.print_figure(bytes_io, **kw)\n",
      "C:\\Users\\USER\\anaconda3\\Lib\\site-packages\\IPython\\core\\pylabtools.py:152: UserWarning: Glyph 45236 (\\N{HANGUL SYLLABLE NAE}) missing from current font.\n",
      "  fig.canvas.print_figure(bytes_io, **kw)\n",
      "findfont: Font family 'AppleGothic' not found.\n",
      "C:\\Users\\USER\\anaconda3\\Lib\\site-packages\\IPython\\core\\pylabtools.py:152: UserWarning: Glyph 44368 (\\N{HANGUL SYLLABLE GYO}) missing from current font.\n",
      "  fig.canvas.print_figure(bytes_io, **kw)\n",
      "C:\\Users\\USER\\anaconda3\\Lib\\site-packages\\IPython\\core\\pylabtools.py:152: UserWarning: Glyph 50977 (\\N{HANGUL SYLLABLE YUG}) missing from current font.\n",
      "  fig.canvas.print_figure(bytes_io, **kw)\n",
      "C:\\Users\\USER\\anaconda3\\Lib\\site-packages\\IPython\\core\\pylabtools.py:152: UserWarning: Glyph 51221 (\\N{HANGUL SYLLABLE JEONG}) missing from current font.\n",
      "  fig.canvas.print_figure(bytes_io, **kw)\n",
      "findfont: Font family 'AppleGothic' not found.\n",
      "C:\\Users\\USER\\anaconda3\\Lib\\site-packages\\IPython\\core\\pylabtools.py:152: UserWarning: Glyph 51109 (\\N{HANGUL SYLLABLE JANG}) missing from current font.\n",
      "  fig.canvas.print_figure(bytes_io, **kw)\n",
      "C:\\Users\\USER\\anaconda3\\Lib\\site-packages\\IPython\\core\\pylabtools.py:152: UserWarning: Glyph 50896 (\\N{HANGUL SYLLABLE WEON}) missing from current font.\n",
      "  fig.canvas.print_figure(bytes_io, **kw)\n",
      "findfont: Font family 'AppleGothic' not found.\n",
      "C:\\Users\\USER\\anaconda3\\Lib\\site-packages\\IPython\\core\\pylabtools.py:152: UserWarning: Glyph 48337 (\\N{HANGUL SYLLABLE BYEONG}) missing from current font.\n",
      "  fig.canvas.print_figure(bytes_io, **kw)\n",
      "C:\\Users\\USER\\anaconda3\\Lib\\site-packages\\IPython\\core\\pylabtools.py:152: UserWarning: Glyph 47924 (\\N{HANGUL SYLLABLE MU}) missing from current font.\n",
      "  fig.canvas.print_figure(bytes_io, **kw)\n",
      "C:\\Users\\USER\\anaconda3\\Lib\\site-packages\\IPython\\core\\pylabtools.py:152: UserWarning: Glyph 44400 (\\N{HANGUL SYLLABLE GUN}) missing from current font.\n",
      "  fig.canvas.print_figure(bytes_io, **kw)\n",
      "C:\\Users\\USER\\anaconda3\\Lib\\site-packages\\IPython\\core\\pylabtools.py:152: UserWarning: Glyph 45800 (\\N{HANGUL SYLLABLE DAN}) missing from current font.\n",
      "  fig.canvas.print_figure(bytes_io, **kw)\n",
      "C:\\Users\\USER\\anaconda3\\Lib\\site-packages\\IPython\\core\\pylabtools.py:152: UserWarning: Glyph 50696 (\\N{HANGUL SYLLABLE YE}) missing from current font.\n",
      "  fig.canvas.print_figure(bytes_io, **kw)\n",
      "C:\\Users\\USER\\anaconda3\\Lib\\site-packages\\IPython\\core\\pylabtools.py:152: UserWarning: Glyph 48708 (\\N{HANGUL SYLLABLE BI}) missing from current font.\n",
      "  fig.canvas.print_figure(bytes_io, **kw)\n",
      "findfont: Font family 'AppleGothic' not found.\n",
      "findfont: Font family 'AppleGothic' not found.\n",
      "findfont: Font family 'AppleGothic' not found.\n",
      "findfont: Font family 'AppleGothic' not found.\n",
      "findfont: Font family 'AppleGothic' not found.\n",
      "findfont: Font family 'AppleGothic' not found.\n",
      "findfont: Font family 'AppleGothic' not found.\n",
      "findfont: Font family 'AppleGothic' not found.\n",
      "findfont: Font family 'AppleGothic' not found.\n",
      "findfont: Font family 'AppleGothic' not found.\n",
      "findfont: Font family 'AppleGothic' not found.\n",
      "findfont: Font family 'AppleGothic' not found.\n",
      "findfont: Font family 'AppleGothic' not found.\n",
      "findfont: Font family 'AppleGothic' not found.\n",
      "findfont: Font family 'AppleGothic' not found.\n",
      "findfont: Font family 'AppleGothic' not found.\n",
      "findfont: Font family 'AppleGothic' not found.\n",
      "findfont: Font family 'AppleGothic' not found.\n",
      "findfont: Font family 'AppleGothic' not found.\n",
      "findfont: Font family 'AppleGothic' not found.\n",
      "findfont: Font family 'AppleGothic' not found.\n",
      "findfont: Font family 'AppleGothic' not found.\n",
      "findfont: Font family 'AppleGothic' not found.\n",
      "findfont: Font family 'AppleGothic' not found.\n",
      "findfont: Font family 'AppleGothic' not found.\n",
      "findfont: Font family 'AppleGothic' not found.\n",
      "findfont: Font family 'AppleGothic' not found.\n",
      "findfont: Font family 'AppleGothic' not found.\n",
      "findfont: Font family 'AppleGothic' not found.\n",
      "findfont: Font family 'AppleGothic' not found.\n",
      "findfont: Font family 'AppleGothic' not found.\n",
      "findfont: Font family 'AppleGothic' not found.\n",
      "findfont: Font family 'AppleGothic' not found.\n",
      "findfont: Font family 'AppleGothic' not found.\n",
      "findfont: Font family 'AppleGothic' not found.\n",
      "findfont: Font family 'AppleGothic' not found.\n",
      "findfont: Font family 'AppleGothic' not found.\n",
      "findfont: Font family 'AppleGothic' not found.\n",
      "findfont: Font family 'AppleGothic' not found.\n",
      "findfont: Font family 'AppleGothic' not found.\n",
      "findfont: Font family 'AppleGothic' not found.\n",
      "findfont: Font family 'AppleGothic' not found.\n",
      "findfont: Font family 'AppleGothic' not found.\n",
      "findfont: Font family 'AppleGothic' not found.\n",
      "findfont: Font family 'AppleGothic' not found.\n",
      "findfont: Font family 'AppleGothic' not found.\n",
      "findfont: Font family 'AppleGothic' not found.\n",
      "findfont: Font family 'AppleGothic' not found.\n",
      "findfont: Font family 'AppleGothic' not found.\n",
      "findfont: Font family 'AppleGothic' not found.\n",
      "findfont: Font family 'AppleGothic' not found.\n",
      "findfont: Font family 'AppleGothic' not found.\n",
      "findfont: Font family 'AppleGothic' not found.\n",
      "findfont: Font family 'AppleGothic' not found.\n",
      "findfont: Font family 'AppleGothic' not found.\n",
      "findfont: Font family 'AppleGothic' not found.\n",
      "findfont: Font family 'AppleGothic' not found.\n",
      "findfont: Font family 'AppleGothic' not found.\n",
      "findfont: Font family 'AppleGothic' not found.\n",
      "findfont: Font family 'AppleGothic' not found.\n",
      "findfont: Font family 'AppleGothic' not found.\n",
      "findfont: Font family 'AppleGothic' not found.\n",
      "findfont: Font family 'AppleGothic' not found.\n",
      "findfont: Font family 'AppleGothic' not found.\n",
      "findfont: Font family 'AppleGothic' not found.\n",
      "findfont: Font family 'AppleGothic' not found.\n",
      "findfont: Font family 'AppleGothic' not found.\n",
      "findfont: Font family 'AppleGothic' not found.\n",
      "findfont: Font family 'AppleGothic' not found.\n"
     ]
    },
    {
     "name": "stderr",
     "output_type": "stream",
     "text": [
      "findfont: Font family 'AppleGothic' not found.\n",
      "findfont: Font family 'AppleGothic' not found.\n",
      "findfont: Font family 'AppleGothic' not found.\n",
      "findfont: Font family 'AppleGothic' not found.\n",
      "findfont: Font family 'AppleGothic' not found.\n",
      "findfont: Font family 'AppleGothic' not found.\n",
      "findfont: Font family 'AppleGothic' not found.\n",
      "findfont: Font family 'AppleGothic' not found.\n",
      "findfont: Font family 'AppleGothic' not found.\n",
      "findfont: Font family 'AppleGothic' not found.\n",
      "findfont: Font family 'AppleGothic' not found.\n",
      "findfont: Font family 'AppleGothic' not found.\n",
      "findfont: Font family 'AppleGothic' not found.\n",
      "findfont: Font family 'AppleGothic' not found.\n",
      "findfont: Font family 'AppleGothic' not found.\n"
     ]
    },
    {
     "data": {
      "image/png": "[encoded data removed]",
      "text/plain": [
       "<Figure size 1600x900 with 1 Axes>"
      ]
     },
     "metadata": {},
     "output_type": "display_data"
    }
   ],
   "source": [
    "plt.figure(figsize=(16,9))\n",
    "ax = sns.countplot(x=df['source'], order = df['source'].value_counts().index)\n",
    "\n",
    "for p in ax.patches:\n",
    "    height = p.get_height()\n",
    "    ax.text(p.get_x() + p.get_width() / 2, height + 50, int(height), ha='center', size=10)\n",
    "\n",
    "for s in ['top', 'right']:\n",
    "    ax.spines[s].set_visible(False)\n",
    "    \n",
    "plt.show()"
   ]
  },
  {
   "cell_type": "code",
   "execution_count": 25,
   "id": "51114d07-98a5-4962-9aad-84a0eaeb477c",
   "metadata": {},
   "outputs": [],
   "source": [
    "df.to_csv('../datasets/datasets.csv', index_label = 'id', encoding = 'utf8')"
   ]
  }
 ],
 "metadata": {
  "kernelspec": {
   "display_name": "Python 3 (ipykernel)",
   "language": "python",
   "name": "python3"
  },
  "language_info": {
   "codemirror_mode": {
    "name": "ipython",
    "version": 3
   },
   "file_extension": ".py",
   "mimetype": "text/x-python",
   "name": "python",
   "nbconvert_exporter": "python",
   "pygments_lexer": "ipython3",
   "version": "3.11.5"
  }
 },
 "nbformat": 4,
 "nbformat_minor": 5
}
